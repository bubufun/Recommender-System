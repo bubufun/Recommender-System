{
 "cells": [
  {
   "cell_type": "markdown",
   "metadata": {},
   "source": [
    "## BASKET-1.Model Loading"
   ]
  },
  {
   "cell_type": "code",
   "execution_count": 1,
   "metadata": {},
   "outputs": [],
   "source": [
    "import numpy as np\n",
    "import pandas as pd\n",
    "from gensim.models.word2vec import Word2Vec"
   ]
  },
  {
   "cell_type": "code",
   "execution_count": 2,
   "metadata": {},
   "outputs": [],
   "source": [
    "#load model\n",
    "keyword = 'BASKET'\n",
    "\n",
    "from gensim.models.word2vec import Word2Vec\n",
    "word2vec_sg = Word2Vec.load('./models/%s/%sw2v_model_all.md.sg' % (keyword,keyword))\n",
    "# word2vec_cbow = Word2Vec.load('./models/%s/%sw2v_model_all.md.cbow'% (keyword,keyword))"
   ]
  },
  {
   "cell_type": "code",
   "execution_count": 11,
   "metadata": {},
   "outputs": [
    {
     "data": {
      "text/plain": [
       "[('848666', 0.9860615730285645),\n",
       " ('861558', 0.9849885106086731),\n",
       " ('872183', 0.9847167730331421),\n",
       " ('860900', 0.9843514561653137),\n",
       " ('852459', 0.9842950105667114)]"
      ]
     },
     "execution_count": 11,
     "metadata": {},
     "output_type": "execute_result"
    }
   ],
   "source": [
    "word2vec_sg.wv.most_similar(\"878913\",topn=6)"
   ]
  },
  {
   "cell_type": "code",
   "execution_count": 27,
   "metadata": {},
   "outputs": [
    {
     "data": {
      "text/plain": [
       "[('869454', 0.9860844016075134),\n",
       " ('848666', 0.9860615730285645),\n",
       " ('861558', 0.9849885106086731),\n",
       " ('872183', 0.9847167730331421),\n",
       " ('860900', 0.9843514561653137),\n",
       " ('852459', 0.9842950105667114),\n",
       " ('866902', 0.9832569360733032),\n",
       " ('868494', 0.9830461144447327),\n",
       " ('824521', 0.9828561544418335),\n",
       " ('853973', 0.9826780557632446)]"
      ]
     },
     "execution_count": 27,
     "metadata": {},
     "output_type": "execute_result"
    }
   ],
   "source": [
    "word2vec_sg.wv.similar_by_vector(\"878913\")"
   ]
  },
  {
   "cell_type": "markdown",
   "metadata": {},
   "source": [
    "## BASKET-2.Customized Recommendation"
   ]
  },
  {
   "cell_type": "code",
   "execution_count": 3,
   "metadata": {},
   "outputs": [],
   "source": [
    "def recommendation_products(vector, n = 6): \n",
    "    ms = word2vec_sg.wv.similar_by_vector(vector, topn= n)\n",
    "    #new_ms = [] \n",
    "    #for j in ms: \n",
    "    #    pair = (products_dict[j[0]][0], j[1]) new_ms.append(pair) \n",
    "    #return new_ms\n",
    "    return ms\n",
    "\n",
    "def aggregate_vectors(products_list): \n",
    "    product_vec = [] \n",
    "    for i in products_list: \n",
    "        try: product_vec.append(word2vec_sg.wv[str(i)]) \n",
    "        except KeyError: \n",
    "            continue \n",
    "    return np.mean(product_vec, axis=0)\n",
    "\n",
    "def prouduct_history_per_cid(CID):\n",
    "    temp_df = pd.read_csv('../Data_for_w2v_DNN_Embedding/data_processed-cid/CID_%s.csv' % CID)\n",
    "    temp_list = temp_df['words'].apply(lambda x : x.replace('[','').replace(']','').replace(' ','').split(',')).tolist()\n",
    "    products_list= []\n",
    "    for i in temp_list:\n",
    "        products_list +=i\n",
    "    return products_list\n",
    "\n",
    "def recommend_you(CID):\n",
    "    recommendation = recommendation_products(aggregate_vectors(prouduct_history_per_cid(CID)))\n",
    "    return recommendation\n"
   ]
  },
  {
   "cell_type": "code",
   "execution_count": 4,
   "metadata": {},
   "outputs": [
    {
     "data": {
      "text/plain": [
       "[('959303', 0.9704010486602783),\n",
       " ('993095', 0.9699113965034485),\n",
       " ('1078130', 0.9676452875137329),\n",
       " ('1025287', 0.9663093090057373),\n",
       " ('947067', 0.9632833003997803),\n",
       " ('997296', 0.9630880355834961)]"
      ]
     },
     "execution_count": 4,
     "metadata": {},
     "output_type": "execute_result"
    }
   ],
   "source": [
    "recommend_you(29)"
   ]
  },
  {
   "cell_type": "markdown",
   "metadata": {},
   "source": [
    "## BASKET_SUM_COMM-1.Model Loading"
   ]
  },
  {
   "cell_type": "code",
   "execution_count": 1,
   "metadata": {},
   "outputs": [],
   "source": [
    "import numpy as np\n",
    "import pandas as pd\n",
    "from gensim.models.word2vec import Word2Vec"
   ]
  },
  {
   "cell_type": "code",
   "execution_count": 2,
   "metadata": {},
   "outputs": [],
   "source": [
    "#load model\n",
    "keyword = 'BASKET_SUM_COMM'\n",
    "\n",
    "from gensim.models.word2vec import Word2Vec\n",
    "word2vec_sg = Word2Vec.load('./models/%s/%sw2v_model_all.md.sg' % (keyword,keyword))\n",
    "# word2vec_cbow = Word2Vec.load('./models/%s/%sw2v_model_all.md.cbow'% (keyword,keyword))"
   ]
  },
  {
   "cell_type": "code",
   "execution_count": 11,
   "metadata": {},
   "outputs": [
    {
     "data": {
      "text/plain": [
       "[('SANDWICH COOKIES', 0.6158090233802795),\n",
       " ('VANILLA WAFER/KIDS COOKIES', 0.5778118968009949),\n",
       " ('TRAY PACK/CHOC CHIP COOKIES', 0.5533934235572815),\n",
       " ('FRUIT FILLED COOKIES', 0.5475796461105347),\n",
       " ('MULTI-PACK COOKIES', 0.5461371541023254),\n",
       " ('PREMIUM COOKIES (EX: PEPPERIDG', 0.5460445880889893),\n",
       " ('MULTI-PACK CRACKERS', 0.5363984107971191),\n",
       " ('ENGLISH MUFFINS/WAFFLES', 0.514281153678894),\n",
       " ('CHOCOLATE COVERED COOKIES', 0.5061472654342651),\n",
       " ('HISPANIC CHEESE', 0.5054013729095459)]"
      ]
     },
     "execution_count": 11,
     "metadata": {},
     "output_type": "execute_result"
    }
   ],
   "source": [
    "word2vec_sg.wv.similar_by_vector(\"SPECIALTY COOKIES\")"
   ]
  },
  {
   "cell_type": "code",
   "execution_count": 42,
   "metadata": {},
   "outputs": [],
   "source": [
    "def recommendation_products(vector, n = 6): \n",
    "    ms = word2vec_sg.wv.similar_by_vector(vector, topn= n)\n",
    "    #new_ms = [] \n",
    "    #for j in ms: \n",
    "    #    pair = (products_dict[j[0]][0], j[1]) new_ms.append(pair) \n",
    "    #return new_ms\n",
    "    return ms\n",
    "\n",
    "def aggregate_vectors(products_list): \n",
    "    product_vec = [] \n",
    "    for i in products_list: \n",
    "        try: product_vec.append(word2vec_sg.wv[str(i)]) \n",
    "        except KeyError: \n",
    "            continue \n",
    "    return np.mean(product_vec, axis=0)\n",
    "\n",
    "def prouduct_history_per_cid(CID):\n",
    "    temp_df = pd.read_csv('C:/Users/202009-DA02008/PycharmProjects/w2v_DNN_Embedding/1_Data_for_w2v_DNN_Embedding/data_processed-cid_SUB_COMM/SUB_COMM_CID_%s.csv' % CID)\n",
    "    temp_list = temp_df['words'].apply(lambda x : x.replace('[','').replace(']','').replace(\"'\",'').split(',')).tolist()\n",
    "    products_list= []\n",
    "    for i in temp_list:\n",
    "        for j in i:\n",
    "            k = j.lstrip()\n",
    "            products_list.append(k)\n",
    "    return products_list\n",
    "\n",
    "def recommend_you(CID):\n",
    "    recommendation = recommendation_products(aggregate_vectors(prouduct_history_per_cid(CID)))\n",
    "    return recommendation\n",
    "\n",
    "def others_also_like_by_product(SUB_COMM, n = 6):\n",
    "    ms = word2vec_sg.wv.most_similar(SUB_COMM,topn=n)\n",
    "    return ms\n"
   ]
  },
  {
   "cell_type": "code",
   "execution_count": 41,
   "metadata": {},
   "outputs": [
    {
     "data": {
      "text/plain": [
       "[('REFRIGERATED KOSHER PRODUCTS', 0.8621096014976501),\n",
       " ('MEAT-MISC-RW-ALL', 0.8526090979576111),\n",
       " ('HAM - BONE-IN WHOLE', 0.8364579677581787),\n",
       " ('BEVERAGE', 0.8334398865699768),\n",
       " ('CIGARETTE PARAPHERNALIA', 0.8256152868270874),\n",
       " ('MEAT:LNCHMT PPK/PRSLC', 0.8153157234191895)]"
      ]
     },
     "execution_count": 41,
     "metadata": {},
     "output_type": "execute_result"
    }
   ],
   "source": [
    "recommend_you(29)"
   ]
  },
  {
   "cell_type": "code",
   "execution_count": 43,
   "metadata": {},
   "outputs": [
    {
     "data": {
      "text/plain": [
       "[('MEAT-MISC-RW-ALL', 0.8316293358802795),\n",
       " ('HAM - BONE-IN WHOLE', 0.7990870475769043),\n",
       " ('BEVERAGE', 0.7791464328765869),\n",
       " ('*SPRING/SUMMER MISC', 0.7614096403121948),\n",
       " ('DECORATOR ACCESSORIES', 0.7603951692581177),\n",
       " ('SNOW GOODS', 0.7603418231010437)]"
      ]
     },
     "execution_count": 43,
     "metadata": {},
     "output_type": "execute_result"
    }
   ],
   "source": [
    "others_also_like_by_product('REFRIGERATED KOSHER PRODUCTS')"
   ]
  },
  {
   "cell_type": "code",
   "execution_count": null,
   "metadata": {},
   "outputs": [],
   "source": []
  }
 ],
 "metadata": {
  "kernelspec": {
   "display_name": "Python 3",
   "language": "python",
   "name": "python3"
  },
  "language_info": {
   "codemirror_mode": {
    "name": "ipython",
    "version": 3
   },
   "file_extension": ".py",
   "mimetype": "text/x-python",
   "name": "python",
   "nbconvert_exporter": "python",
   "pygments_lexer": "ipython3",
   "version": "3.7.4"
  }
 },
 "nbformat": 4,
 "nbformat_minor": 4
}
