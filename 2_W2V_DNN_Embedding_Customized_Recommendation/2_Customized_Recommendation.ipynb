{
 "cells": [
  {
   "cell_type": "markdown",
   "metadata": {},
   "source": [
    "## BASKET-1.Model Loading"
   ]
  },
  {
   "cell_type": "code",
   "execution_count": 1,
   "metadata": {},
   "outputs": [],
   "source": [
    "import numpy as np\n",
    "import pandas as pd\n",
    "from gensim.models.word2vec import Word2Vec"
   ]
  },
  {
   "cell_type": "code",
   "execution_count": 2,
   "metadata": {},
   "outputs": [],
   "source": [
    "#load model\n",
    "keyword = 'BASKET'\n",
    "\n",
    "from gensim.models.word2vec import Word2Vec\n",
    "word2vec_sg = Word2Vec.load('./models/%s/%sw2v_model_all.md.sg' % (keyword,keyword))\n",
    "# word2vec_cbow = Word2Vec.load('./models/%s/%sw2v_model_all.md.cbow'% (keyword,keyword))"
   ]
  },
  {
   "cell_type": "code",
   "execution_count": 11,
   "metadata": {},
   "outputs": [
    {
     "data": {
      "text/plain": [
       "[('848666', 0.9860615730285645),\n",
       " ('861558', 0.9849885106086731),\n",
       " ('872183', 0.9847167730331421),\n",
       " ('860900', 0.9843514561653137),\n",
       " ('852459', 0.9842950105667114)]"
      ]
     },
     "execution_count": 11,
     "metadata": {},
     "output_type": "execute_result"
    }
   ],
   "source": [
    "word2vec_sg.wv.most_similar(\"878913\",topn=6)"
   ]
  },
  {
   "cell_type": "code",
   "execution_count": 27,
   "metadata": {},
   "outputs": [
    {
     "data": {
      "text/plain": [
       "[('869454', 0.9860844016075134),\n",
       " ('848666', 0.9860615730285645),\n",
       " ('861558', 0.9849885106086731),\n",
       " ('872183', 0.9847167730331421),\n",
       " ('860900', 0.9843514561653137),\n",
       " ('852459', 0.9842950105667114),\n",
       " ('866902', 0.9832569360733032),\n",
       " ('868494', 0.9830461144447327),\n",
       " ('824521', 0.9828561544418335),\n",
       " ('853973', 0.9826780557632446)]"
      ]
     },
     "execution_count": 27,
     "metadata": {},
     "output_type": "execute_result"
    }
   ],
   "source": [
    "word2vec_sg.wv.similar_by_vector(\"878913\")"
   ]
  },
  {
   "cell_type": "markdown",
   "metadata": {},
   "source": [
    "## BASKET-2.Customized Recommendation"
   ]
  },
  {
   "cell_type": "code",
   "execution_count": 3,
   "metadata": {},
   "outputs": [],
   "source": [
    "def recommendation_products(vector, n = 6): \n",
    "    ms = word2vec_sg.wv.similar_by_vector(vector, topn= n)\n",
    "    #new_ms = [] \n",
    "    #for j in ms: \n",
    "    #    pair = (products_dict[j[0]][0], j[1]) new_ms.append(pair) \n",
    "    #return new_ms\n",
    "    return ms\n",
    "\n",
    "def aggregate_vectors(products_list): \n",
    "    product_vec = [] \n",
    "    for i in products_list: \n",
    "        try: product_vec.append(word2vec_sg.wv[str(i)]) \n",
    "        except KeyError: \n",
    "            continue \n",
    "    return np.mean(product_vec, axis=0)\n",
    "\n",
    "def prouduct_history_per_cid(CID):\n",
    "    temp_df = pd.read_csv('../Data_for_w2v_DNN_Embedding/data_processed-cid/CID_%s.csv' % CID)\n",
    "    temp_list = temp_df['words'].apply(lambda x : x.replace('[','').replace(']','').replace(' ','').split(',')).tolist()\n",
    "    products_list= []\n",
    "    for i in temp_list:\n",
    "        products_list +=i\n",
    "    return products_list\n",
    "\n",
    "def recommend_you(CID):\n",
    "    recommendation = recommendation_products(aggregate_vectors(prouduct_history_per_cid(CID)))\n",
    "    return recommendation\n"
   ]
  },
  {
   "cell_type": "code",
   "execution_count": 4,
   "metadata": {},
   "outputs": [
    {
     "data": {
      "text/plain": [
       "[('959303', 0.9704010486602783),\n",
       " ('993095', 0.9699113965034485),\n",
       " ('1078130', 0.9676452875137329),\n",
       " ('1025287', 0.9663093090057373),\n",
       " ('947067', 0.9632833003997803),\n",
       " ('997296', 0.9630880355834961)]"
      ]
     },
     "execution_count": 4,
     "metadata": {},
     "output_type": "execute_result"
    }
   ],
   "source": [
    "recommend_you(29)"
   ]
  },
  {
   "cell_type": "markdown",
   "metadata": {},
   "source": [
    "## BASKET_SUM_COMM-1.Model Loading"
   ]
  },
  {
   "cell_type": "code",
   "execution_count": 1,
   "metadata": {},
   "outputs": [],
   "source": [
    "import numpy as np\n",
    "import pandas as pd\n",
    "from gensim.models.word2vec import Word2Vec"
   ]
  },
  {
   "cell_type": "code",
   "execution_count": 2,
   "metadata": {},
   "outputs": [],
   "source": [
    "#load model\n",
    "keyword = 'BASKET_SUM_COMM'\n",
    "\n",
    "from gensim.models.word2vec import Word2Vec\n",
    "word2vec_sg = Word2Vec.load('./models/%s/%sw2v_model_all.md.sg' % (keyword,keyword))\n",
    "# word2vec_cbow = Word2Vec.load('./models/%s/%sw2v_model_all.md.cbow'% (keyword,keyword))"
   ]
  },
  {
   "cell_type": "code",
   "execution_count": 4,
   "metadata": {},
   "outputs": [
    {
     "data": {
      "text/plain": [
       "[('SANDWICH COOKIES', 0.6158090233802795),\n",
       " ('VANILLA WAFER/KIDS COOKIES', 0.5778118968009949),\n",
       " ('TRAY PACK/CHOC CHIP COOKIES', 0.5533934235572815),\n",
       " ('FRUIT FILLED COOKIES', 0.5475796461105347),\n",
       " ('MULTI-PACK COOKIES', 0.5461371541023254),\n",
       " ('PREMIUM COOKIES (EX: PEPPERIDG', 0.5460445880889893),\n",
       " ('MULTI-PACK CRACKERS', 0.5363984107971191),\n",
       " ('ENGLISH MUFFINS/WAFFLES', 0.514281153678894),\n",
       " ('CHOCOLATE COVERED COOKIES', 0.5061472654342651),\n",
       " ('HISPANIC CHEESE', 0.5054013729095459)]"
      ]
     },
     "execution_count": 4,
     "metadata": {},
     "output_type": "execute_result"
    }
   ],
   "source": [
    "word2vec_sg.wv.similar_by_vector(\"SPECIALTY COOKIES\")"
   ]
  },
  {
   "cell_type": "code",
   "execution_count": 12,
   "metadata": {},
   "outputs": [],
   "source": [
    "def recommendation_products(vector, n = 6): \n",
    "    ms = word2vec_sg.wv.similar_by_vector(vector, topn= n)\n",
    "    #new_ms = [] \n",
    "    #for j in ms: \n",
    "    #    pair = (products_dict[j[0]][0], j[1]) new_ms.append(pair) \n",
    "    #return new_ms\n",
    "    return ms\n",
    "\n",
    "def aggregate_vectors(products_list): \n",
    "    product_vec = [] \n",
    "    for i in products_list: \n",
    "        try: product_vec.append(word2vec_sg.wv[str(i)]) \n",
    "        except KeyError: \n",
    "            continue \n",
    "    return np.mean(product_vec, axis=0)\n",
    "\n",
    "def prouduct_history_per_cid(CID):\n",
    "    temp_df = pd.read_csv('C:/Users/202009-DA02008/PycharmProjects/w2v_DNN_Embedding/1_Data_for_w2v_DNN_Embedding/data_processed-cid_SUB_COMM/SUB_COMM_CID_%s.csv' % CID)\n",
    "    temp_list = temp_df['words'].apply(lambda x : x.replace('[','').replace(']','').replace(\"'\",'').split(',')).tolist()\n",
    "    products_list= []\n",
    "    for i in temp_list:\n",
    "        for j in i:\n",
    "            k = j.lstrip()\n",
    "            products_list.append(k)\n",
    "    return products_list\n",
    "\n",
    "def recommend_you(CID):\n",
    "    recommendation = recommendation_products(aggregate_vectors(prouduct_history_per_cid(CID)))\n",
    "    return recommendation\n",
    "\n",
    "def others_also_like_by_product(SUB_COMM, n = 20):\n",
    "    ms = word2vec_sg.wv.most_similar(SUB_COMM,topn=n)\n",
    "    return ms\n"
   ]
  },
  {
   "cell_type": "code",
   "execution_count": 5,
   "metadata": {},
   "outputs": [
    {
     "data": {
      "text/plain": [
       "[('MEAT-MISC-RW-ALL', 0.9203320741653442),\n",
       " ('HAM - BONE-IN WHOLE', 0.9003793597221375),\n",
       " ('REFRIGERATED KOSHER PRODUCTS', 0.8765144348144531),\n",
       " ('BEVERAGE', 0.8696011304855347),\n",
       " ('INDR PLANTR ACCESSORIES', 0.8529945611953735),\n",
       " ('SHLDR - PICNIC', 0.8489266633987427)]"
      ]
     },
     "execution_count": 5,
     "metadata": {},
     "output_type": "execute_result"
    }
   ],
   "source": [
    "recommend_you(2434)"
   ]
  },
  {
   "cell_type": "code",
   "execution_count": 13,
   "metadata": {},
   "outputs": [
    {
     "data": {
      "text/plain": [
       "[('TRAY PACK/CHOC CHIP COOKIES', 0.8564910292625427),\n",
       " ('CHEESE CRACKERS (CHEEZ-ITS/GOL', 0.7220062017440796),\n",
       " ('VANILLA WAFER/KIDS COOKIES', 0.6934831738471985),\n",
       " ('CHOCOLATE COVERED COOKIES', 0.6858775019645691),\n",
       " ('FRUIT FILLED COOKIES', 0.6407666206359863),\n",
       " ('SNOW GOODS', 0.6384323835372925),\n",
       " ('MEAT:LNCHMT PPK/PRSLC', 0.6296797394752502),\n",
       " ('CIGARETTE PARAPHERNALIA', 0.6175541281700134),\n",
       " ('SPECIALTY COOKIES', 0.6158090829849243),\n",
       " ('SNACK CAKE - MULTI PACK', 0.6115617156028748),\n",
       " ('BAGGED CHEESE SNACKS', 0.5847868323326111),\n",
       " ('BUTTER SPRAY CRACKER (RITZ/CLU', 0.575584352016449),\n",
       " ('MACARONI & CHEESE DNRS', 0.5713028907775879),\n",
       " ('PRETZELS', 0.5680615305900574),\n",
       " ('REFRIGERATED KOSHER PRODUCTS', 0.5580745339393616),\n",
       " ('INDR PLANTR ACCESSORIES', 0.5575753450393677),\n",
       " ('KIDS CEREAL', 0.5548697710037231),\n",
       " ('ASEPTIC PACK JUICE AND DRINKS', 0.5545515418052673),\n",
       " ('MEAT: GIFT PACK', 0.5519044399261475),\n",
       " ('SWEET GOODS - FULL SIZE', 0.5511370301246643)]"
      ]
     },
     "execution_count": 13,
     "metadata": {},
     "output_type": "execute_result"
    }
   ],
   "source": [
    "others_also_like_by_product('SANDWICH COOKIES')"
   ]
  },
  {
   "cell_type": "code",
   "execution_count": null,
   "metadata": {},
   "outputs": [],
   "source": []
  }
 ],
 "metadata": {
  "kernelspec": {
   "display_name": "Python 3",
   "language": "python",
   "name": "python3"
  },
  "language_info": {
   "codemirror_mode": {
    "name": "ipython",
    "version": 3
   },
   "file_extension": ".py",
   "mimetype": "text/x-python",
   "name": "python",
   "nbconvert_exporter": "python",
   "pygments_lexer": "ipython3",
   "version": "3.7.4"
  }
 },
 "nbformat": 4,
 "nbformat_minor": 4
}
